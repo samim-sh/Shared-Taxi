{
 "cells": [
  {
   "cell_type": "code",
   "execution_count": 1,
   "metadata": {},
   "outputs": [],
   "source": [
    "import osmnx as ox\n",
    "import matplotlib.pyplot as plt\n",
    "\n",
    "ox.config(log_file=True, log_console=True, use_cache=True)"
   ]
  },
  {
   "cell_type": "code",
   "execution_count": 2,
   "metadata": {},
   "outputs": [],
   "source": [
    "# same point again, but create network only of nodes within 500m along the network from point\n",
    "NYC = ox.graph_from_point((40.751738, -73.987042), distance=3500, distance_type='network', \n",
    "                          simplify=True, retain_all=False, network_type='drive_service', clean_periphery=True)\n",
    "# NYC = ox.project_graph(NYC)\n",
    "fig, ax = ox.plot_graph(NYC, fig_height=10, fig_width=12, node_size=0, node_color='#66cc66')\n"
   ]
  },
  {
   "cell_type": "code",
   "execution_count": null,
   "metadata": {},
   "outputs": [],
   "source": [
    "NYC.remove_nodes_from([6166413694,6166413690,593886231,593886252])\n",
    "remove1 = [node for node,degree in dict(NYC.degree()).items() if degree == 1]\n",
    "NYC.remove_nodes_from(remove1)\n",
    "remove0 = list(nx.isolates(NYC))\n",
    "NYC.remove_nodes_from(remove0)\n",
    "print(remove1)\n",
    "remove0\n"
   ]
  },
  {
   "cell_type": "code",
   "execution_count": null,
   "metadata": {},
   "outputs": [],
   "source": [
    "ox.save_graphml(NYC, filename='NYC.graphml', folder='NYC_graphml')"
   ]
  }
 ],
 "metadata": {
  "kernelspec": {
   "display_name": "Python 3",
   "language": "python",
   "name": "python3"
  },
  "language_info": {
   "codemirror_mode": {
    "name": "ipython",
    "version": 3
   },
   "file_extension": ".py",
   "mimetype": "text/x-python",
   "name": "python",
   "nbconvert_exporter": "python",
   "pygments_lexer": "ipython3",
   "version": "3.7.1"
  }
 },
 "nbformat": 4,
 "nbformat_minor": 2
}
